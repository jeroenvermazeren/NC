{
 "cells": [
  {
   "cell_type": "code",
   "execution_count": 24,
   "metadata": {},
   "outputs": [],
   "source": [
    "import numpy as np\n",
    "import psopy\n",
    "from scipy.optimize import rosen\n",
    "from ctf.functions2d import eggholder, three_hump_camel"
   ]
  },
  {
   "cell_type": "code",
   "execution_count": 29,
   "metadata": {},
   "outputs": [
    {
     "name": "stdout",
     "output_type": "stream",
     "text": [
      "[482.35332189 432.87901044]\n",
      "[-9.23100572e-07  1.54673342e-05]\n",
      "[0.99999504 0.99998721]\n"
     ]
    }
   ],
   "source": [
    "functions = [eggholder.Eggholder().cost, three_hump_camel.ThreeHumpCamel().cost, rosen]\n",
    "x0 = np.random.uniform(-512, 512, (1000, 2))\n",
    "\n",
    "for function in functions:\n",
    "    res = psopy.minimize(function, x0, options={'stable_iter': 50})\n",
    "    print(res.x)"
   ]
  },
  {
   "cell_type": "code",
   "execution_count": null,
   "metadata": {},
   "outputs": [],
   "source": []
  }
 ],
 "metadata": {
  "kernelspec": {
   "display_name": "Python 3",
   "language": "python",
   "name": "python3"
  },
  "language_info": {
   "codemirror_mode": {
    "name": "ipython",
    "version": 3
   },
   "file_extension": ".py",
   "mimetype": "text/x-python",
   "name": "python",
   "nbconvert_exporter": "python",
   "pygments_lexer": "ipython3",
   "version": "3.6.8"
  }
 },
 "nbformat": 4,
 "nbformat_minor": 2
}
