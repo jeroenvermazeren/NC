{
 "cells": [
  {
   "cell_type": "code",
   "execution_count": 2,
   "metadata": {},
   "outputs": [],
   "source": [
    "import numpy as np\n",
    "import psopy\n",
    "from scipy.optimize import rosen\n",
    "from ctf.functions2d import eggholder, three_hump_camel"
   ]
  },
  {
   "cell_type": "code",
   "execution_count": 7,
   "metadata": {},
   "outputs": [
    {
     "name": "stdout",
     "output_type": "stream",
     "text": [
      "[482.35338898 432.87907638]\n",
      "[-1.54457600e-07 -7.79067404e-07]\n",
      "[1.00001118 1.00002353]\n"
     ]
    }
   ],
   "source": [
    "functions = [eggholder.Eggholder().cost, three_hump_camel.ThreeHumpCamel().cost, rosen]\n",
    "x0 = np.random.uniform(-512, 512, (1000, 2))\n",
    "\n",
    "for function in functions:\n",
    "    res = psopy.minimize(function, x0, options={'stable_iter': 50})\n",
    "    print(res.x)"
   ]
  },
  {
   "cell_type": "code",
   "execution_count": null,
   "metadata": {},
   "outputs": [],
   "source": []
  }
 ],
 "metadata": {
  "kernelspec": {
   "display_name": "Python 3",
   "language": "python",
   "name": "python3"
  },
  "language_info": {
   "codemirror_mode": {
    "name": "ipython",
    "version": 3
   },
   "file_extension": ".py",
   "mimetype": "text/x-python",
   "name": "python",
   "nbconvert_exporter": "python",
   "pygments_lexer": "ipython3",
   "version": "3.6.8"
  }
 },
 "nbformat": 4,
 "nbformat_minor": 2
}
